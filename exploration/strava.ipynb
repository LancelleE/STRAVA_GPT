{
 "cells": [
  {
   "cell_type": "markdown",
   "metadata": {},
   "source": []
  },
  {
   "cell_type": "code",
   "execution_count": 37,
   "metadata": {},
   "outputs": [
    {
     "name": "stdout",
     "output_type": "stream",
     "text": [
      "City: Boulogne-Billancourt\n"
     ]
    }
   ],
   "source": [
    "from geopy.geocoders import Nominatim\n",
    "\n",
    "def get_city_from_coordinates(latitude, longitude):\n",
    "    geolocator = Nominatim(user_agent=\"my-app\")\n",
    "    location = geolocator.reverse((latitude, longitude), exactly_one=True)\n",
    "    address = location.raw['address']\n",
    "    city = address.get('city', '')\n",
    "    return city\n",
    "\n",
    "# Exemples de coordonnées (latitude, longitude)\n",
    "latitude = 48.826939864084125\n",
    "longitude = 2.241187132894993\n",
    "\n",
    "city = get_city_from_coordinates(latitude, longitude)\n",
    "print(f\"City: {city}\")\n",
    "##############\n",
    "\n",
    "# from geopy.geocoders import Nominatim\n",
    "# geolocator = Nominatim(user_agent=\"my-app\")\n",
    "# location = geolocator.reverse(f\"{latitude}, {longitude}\")\n",
    "# print(location.address)\n"
   ]
  },
  {
   "cell_type": "code",
   "execution_count": 44,
   "metadata": {},
   "outputs": [
    {
     "name": "stdout",
     "output_type": "stream",
     "text": [
      "\n",
      "J'ai fait la séance de Run suivante : 🌊 Seuil - 4*3mn @5’55, le 2024-05-27T17:12:11Z.\n",
      "\n",
      "Je suis parti de Boulogne-Billancourt et ai fini à Boulogne-Billancourt.\n",
      "\n",
      "La séance a duré en tout 2737 secondes, dont 2594 d'activité.\n",
      "\n",
      "La distance parcourue est de 6223.8m, avec un dénivelé positif de 12.0.\n",
      "\n",
      "J'ai couru en moyenne à 2.399 m/s, avec une pointe à 4.5.\n",
      "\n",
      "Mon rythme cardiaque était en moyenne de 143.5, avec une pointe à 171.0.\n",
      "\n",
      "\n"
     ]
    }
   ],
   "source": [
    "start_city, end_city = get_city_from_coordinates(activity['start_latlng'][0], activity['start_latlng'][1]), get_city_from_coordinates(activity['end_latlng'][0], activity['end_latlng'][1])\n",
    "\n",
    "texte = f\"\"\"\n",
    "J'ai fait la séance de {activity['type']} suivante : {activity['name']}, le {activity['start_date']}.\\n\n",
    "Je suis parti de {start_city} et ai fini à {end_city}.\\n\n",
    "La séance a duré en tout {activity['elapsed_time']} secondes, dont {activity['moving_time']} d'activité.\\n\n",
    "La distance parcourue est de {activity['distance']}m, avec un dénivelé positif de {activity['total_elevation_gain']}.\\n\n",
    "J'ai couru en moyenne à {activity['average_speed']} m/s, avec une pointe à {activity['max_speed']}.\\n\n",
    "Mon rythme cardiaque était en moyenne de {activity['average_heartrate']}, avec une pointe à {activity['max_heartrate']}.\\n\n",
    "\"\"\"\n",
    "print(texte)"
   ]
  },
  {
   "cell_type": "code",
   "execution_count": null,
   "metadata": {},
   "outputs": [],
   "source": [
    "context_prompt = \"\"\"\n",
    "Tu es un agent spécialisé dans le résumé humoristique/sarcastique de séances de sport, en te basant sur un texte récapitulatif de la séance, \n",
    "avec des informations comme la vitesse, le rythme cardique, la distance, les villes de début et de fin, le titre de la séance.\n",
    "Il te faut être drôle, ce texte sera publié en description de chaque post Strava, et donc visible auprès de mes abonnés.\n",
    "\n",
    "Voici le texte récapitulatif :\n",
    "\n",
    "\n",
    "\"\"\""
   ]
  },
  {
   "cell_type": "code",
   "execution_count": 82,
   "metadata": {},
   "outputs": [],
   "source": [
    "id = 11099445685\n",
    "activity_lap_url = f'https://www.strava.com/api/v3/activities/{id}/laps'\n",
    "headers = {'Authorization': f'Bearer {access_token}'}\n",
    "    \n",
    "response = requests.get(activity_lap_url, headers=headers)"
   ]
  },
  {
   "cell_type": "code",
   "execution_count": 83,
   "metadata": {},
   "outputs": [],
   "source": [
    "def mps_to_minspeed(speed_mps):\n",
    "    # Conversion de m/s en km/min\n",
    "    speed_kmpm = speed_mps * 60 / 1000  # Convertir m/s en km/min\n",
    "    if speed_kmpm != 0:\n",
    "        time_per_km = 1 / speed_kmpm  # Temps par kilomètre en minutes\n",
    "        minutes = int(time_per_km)  # Partie entière représente les minutes\n",
    "        seconds = (time_per_km - minutes) * 60  # Convertir la partie décimale en secondes\n",
    "    else:\n",
    "        minutes = float('inf')\n",
    "        seconds = float('inf')\n",
    "    return str(minutes) + ',' + str(round(seconds))"
   ]
  },
  {
   "cell_type": "code",
   "execution_count": 84,
   "metadata": {},
   "outputs": [
    {
     "name": "stdout",
     "output_type": "stream",
     "text": [
      "Distance : 731 mètres / Temps : 5 minutes / Vitesse : 6,50 mn/km / Heartrate : 139 bpm\n",
      "Distance : 1000 mètres / Temps : 7 minutes / Vitesse : 6,31 mn/km / Heartrate : 147 bpm\n",
      "Distance : 1000 mètres / Temps : 7 minutes / Vitesse : 6,38 mn/km / Heartrate : 154 bpm\n",
      "Distance : 1000 mètres / Temps : 7 minutes / Vitesse : 6,42 mn/km / Heartrate : 156 bpm\n",
      "Distance : 1000 mètres / Temps : 9 minutes / Vitesse : 6,47 mn/km / Heartrate : 151 bpm\n",
      "Distance : 1000 mètres / Temps : 6 minutes / Vitesse : 6,57 mn/km / Heartrate : 162 bpm\n",
      "Distance : 1000 mètres / Temps : 11 minutes / Vitesse : 7,4 mn/km / Heartrate : 161 bpm\n",
      "Distance : 1000 mètres / Temps : 6 minutes / Vitesse : 6,53 mn/km / Heartrate : 157 bpm\n",
      "Distance : 1000 mètres / Temps : 7 minutes / Vitesse : 6,43 mn/km / Heartrate : 158 bpm\n",
      "Distance : 1000 mètres / Temps : 6 minutes / Vitesse : 6,48 mn/km / Heartrate : 160 bpm\n",
      "Distance : 788 mètres / Temps : 5 minutes / Vitesse : 6,35 mn/km / Heartrate : 163 bpm\n"
     ]
    }
   ],
   "source": [
    "for lap in response.json():\n",
    "    t = lap['elapsed_time'] // 60\n",
    "    d = round(lap['distance'])\n",
    "    s = mps_to_minspeed(lap['average_speed'])\n",
    "    h = round(lap['average_heartrate'])\n",
    "    print(f'Distance : {d} mètres / Temps : {t} minutes / Vitesse : {s} mn/km / Heartrate : {h} bpm')"
   ]
  },
  {
   "cell_type": "code",
   "execution_count": 2,
   "metadata": {},
   "outputs": [
    {
     "data": {
      "text/plain": [
       "1719530102"
      ]
     },
     "execution_count": 2,
     "metadata": {},
     "output_type": "execute_result"
    }
   ],
   "source": [
    "from datetime import datetime\n",
    "\n",
    "current_timestamp = int(datetime.now().timestamp())\n",
    "current_timestamp"
   ]
  },
  {
   "cell_type": "code",
   "execution_count": null,
   "metadata": {},
   "outputs": [],
   "source": []
  }
 ],
 "metadata": {
  "kernelspec": {
   "display_name": "Python 3",
   "language": "python",
   "name": "python3"
  },
  "language_info": {
   "codemirror_mode": {
    "name": "ipython",
    "version": 3
   },
   "file_extension": ".py",
   "mimetype": "text/x-python",
   "name": "python",
   "nbconvert_exporter": "python",
   "pygments_lexer": "ipython3",
   "version": "3.12.3"
  }
 },
 "nbformat": 4,
 "nbformat_minor": 2
}
