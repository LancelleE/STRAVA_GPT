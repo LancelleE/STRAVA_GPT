{
 "cells": [
  {
   "cell_type": "code",
   "execution_count": 4,
   "metadata": {},
   "outputs": [],
   "source": [
    "from src.strava_class import StravaAuth, StravaAPI, ActivityManager, ProfileManager, StravaManager\n",
    "from src.config import CLIENT_ID, CLIENT_SECRET, CLIENT_REFRESH_TOKEN, CLIENT_ACCESS_TOKEN\n",
    "import requests"
   ]
  },
  {
   "cell_type": "code",
   "execution_count": 5,
   "metadata": {},
   "outputs": [],
   "source": [
    "auth = StravaAuth(client_id=CLIENT_ID, client_secret=CLIENT_SECRET, refresh_token=CLIENT_REFRESH_TOKEN, access_token=CLIENT_ACCESS_TOKEN)\n",
    "api = StravaAPI(auth)\n",
    "am = ActivityManager(api)\n",
    "pm = ProfileManager(api)\n",
    "sm = StravaManager(client_id=CLIENT_ID, client_secret=CLIENT_SECRET, refresh_token=CLIENT_REFRESH_TOKEN, access_token=CLIENT_ACCESS_TOKEN, min_date=1719099527, config_file_path='configuration/titre.json')"
   ]
  },
  {
   "cell_type": "code",
   "execution_count": 6,
   "metadata": {},
   "outputs": [
    {
     "name": "stdout",
     "output_type": "stream",
     "text": [
      "{'token_type': 'Bearer', 'access_token': '19d08c92bea869c8e4deeb117010aadcb1ac1365', 'expires_at': 1719719967, 'expires_in': 17385, 'refresh_token': 'ce5a15a2f58734fd99404df19442fb4688c538be'}\n"
     ]
    }
   ],
   "source": [
    "auth.refresh_access_token()"
   ]
  },
  {
   "cell_type": "code",
   "execution_count": 3,
   "metadata": {},
   "outputs": [
    {
     "data": {
      "text/plain": [
       "{'id': 86360204,\n",
       " 'username': 'elancelle',\n",
       " 'resource_state': 3,\n",
       " 'firstname': 'Etienne',\n",
       " 'lastname': 'Lancelle',\n",
       " 'bio': None,\n",
       " 'city': None,\n",
       " 'state': None,\n",
       " 'country': None,\n",
       " 'sex': 'M',\n",
       " 'premium': False,\n",
       " 'summit': False,\n",
       " 'created_at': '2021-05-31T15:22:52Z',\n",
       " 'updated_at': '2024-06-02T22:23:35Z',\n",
       " 'badge_type_id': 0,\n",
       " 'weight': 69.0,\n",
       " 'profile_medium': 'https://graph.facebook.com/4264495023571015/picture?height=256&width=256',\n",
       " 'profile': 'https://graph.facebook.com/4264495023571015/picture?height=256&width=256',\n",
       " 'friend': None,\n",
       " 'follower': None,\n",
       " 'blocked': False,\n",
       " 'can_follow': True,\n",
       " 'follower_count': 77,\n",
       " 'friend_count': 106,\n",
       " 'mutual_friend_count': 0,\n",
       " 'athlete_type': 1,\n",
       " 'date_preference': '%m/%d/%Y',\n",
       " 'measurement_preference': 'meters',\n",
       " 'clubs': [{'id': 54726,\n",
       "   'resource_state': 2,\n",
       "   'name': 'LoKan Explore',\n",
       "   'profile_medium': 'https://dgalywyr863hv.cloudfront.net/pictures/clubs/54726/28989284/3/medium.jpg',\n",
       "   'profile': 'https://dgalywyr863hv.cloudfront.net/pictures/clubs/54726/28989284/3/large.jpg',\n",
       "   'cover_photo': 'https://dgalywyr863hv.cloudfront.net/pictures/clubs/54726/6610220/7/large.jpg',\n",
       "   'cover_photo_small': 'https://dgalywyr863hv.cloudfront.net/pictures/clubs/54726/6610220/7/small.jpg',\n",
       "   'activity_types': ['Run', 'VirtualRun', 'Wheelchair'],\n",
       "   'activity_types_icon': 'sports_run_normal',\n",
       "   'dimensions': ['distance',\n",
       "    'num_activities',\n",
       "    'best_activities_distance',\n",
       "    'elev_gain',\n",
       "    'moving_time',\n",
       "    'velocity'],\n",
       "   'sport_type': 'running',\n",
       "   'localized_sport_type': 'Running',\n",
       "   'city': 'Toulouse',\n",
       "   'state': 'Haute-Garonne',\n",
       "   'country': 'France',\n",
       "   'private': False,\n",
       "   'member_count': 0,\n",
       "   'featured': False,\n",
       "   'verified': True,\n",
       "   'url': 'lknjp',\n",
       "   'membership': 'member',\n",
       "   'admin': False,\n",
       "   'owner': False},\n",
       "  {'id': 434748,\n",
       "   'resource_state': 2,\n",
       "   'name': 'Harmonie Mutuelle Semi de Paris',\n",
       "   'profile_medium': 'https://dgalywyr863hv.cloudfront.net/pictures/clubs/434748/8581622/2/medium.jpg',\n",
       "   'profile': 'https://dgalywyr863hv.cloudfront.net/pictures/clubs/434748/8581622/2/large.jpg',\n",
       "   'cover_photo': 'https://dgalywyr863hv.cloudfront.net/pictures/clubs/434748/8581627/11/large.jpg',\n",
       "   'cover_photo_small': 'https://dgalywyr863hv.cloudfront.net/pictures/clubs/434748/8581627/11/small.jpg',\n",
       "   'activity_types': ['Run', 'VirtualRun', 'Wheelchair'],\n",
       "   'activity_types_icon': 'sports_run_normal',\n",
       "   'dimensions': ['distance',\n",
       "    'num_activities',\n",
       "    'best_activities_distance',\n",
       "    'elev_gain',\n",
       "    'moving_time',\n",
       "    'velocity'],\n",
       "   'sport_type': 'running',\n",
       "   'localized_sport_type': 'Running',\n",
       "   'city': 'Paris',\n",
       "   'state': '',\n",
       "   'country': 'France',\n",
       "   'private': False,\n",
       "   'member_count': 0,\n",
       "   'featured': False,\n",
       "   'verified': True,\n",
       "   'url': 'semiparis',\n",
       "   'membership': 'member',\n",
       "   'admin': False,\n",
       "   'owner': False}],\n",
       " 'postable_clubs_count': 2,\n",
       " 'ftp': None,\n",
       " 'bikes': [],\n",
       " 'shoes': [{'id': 'g14291087',\n",
       "   'primary': False,\n",
       "   'name': 'HOKA Bondi 8',\n",
       "   'nickname': '',\n",
       "   'resource_state': 2,\n",
       "   'retired': False,\n",
       "   'distance': 550034,\n",
       "   'converted_distance': 550.0}],\n",
       " 'is_winback_via_upload': False,\n",
       " 'is_winback_via_view': False}"
      ]
     },
     "execution_count": 3,
     "metadata": {},
     "output_type": "execute_result"
    }
   ],
   "source": [
    "sm.get_profile_info()"
   ]
  },
  {
   "cell_type": "code",
   "execution_count": 12,
   "metadata": {},
   "outputs": [],
   "source": [
    "# am.get_latest_activities(after_date=1719099527)\n",
    "am.get_activity_data(11738486543)\n",
    "am.update_activity(11738486543, {'description': 'Fé tré cho (test)'})"
   ]
  },
  {
   "cell_type": "code",
   "execution_count": 15,
   "metadata": {},
   "outputs": [
    {
     "data": {
      "text/plain": [
       "{'id': 86360204,\n",
       " 'username': 'elancelle',\n",
       " 'resource_state': 3,\n",
       " 'firstname': 'Etienne',\n",
       " 'lastname': 'Lancelle',\n",
       " 'bio': None,\n",
       " 'city': None,\n",
       " 'state': None,\n",
       " 'country': None,\n",
       " 'sex': 'M',\n",
       " 'premium': False,\n",
       " 'summit': False,\n",
       " 'created_at': '2021-05-31T15:22:52Z',\n",
       " 'updated_at': '2024-06-02T22:23:35Z',\n",
       " 'badge_type_id': 0,\n",
       " 'weight': 69.0,\n",
       " 'profile_medium': 'https://graph.facebook.com/4264495023571015/picture?height=256&width=256',\n",
       " 'profile': 'https://graph.facebook.com/4264495023571015/picture?height=256&width=256',\n",
       " 'friend': None,\n",
       " 'follower': None,\n",
       " 'blocked': False,\n",
       " 'can_follow': True,\n",
       " 'follower_count': 77,\n",
       " 'friend_count': 106,\n",
       " 'mutual_friend_count': 0,\n",
       " 'athlete_type': 1,\n",
       " 'date_preference': '%m/%d/%Y',\n",
       " 'measurement_preference': 'meters',\n",
       " 'clubs': [{'id': 54726,\n",
       "   'resource_state': 2,\n",
       "   'name': 'LoKan Explore',\n",
       "   'profile_medium': 'https://dgalywyr863hv.cloudfront.net/pictures/clubs/54726/28989284/3/medium.jpg',\n",
       "   'profile': 'https://dgalywyr863hv.cloudfront.net/pictures/clubs/54726/28989284/3/large.jpg',\n",
       "   'cover_photo': 'https://dgalywyr863hv.cloudfront.net/pictures/clubs/54726/6610220/7/large.jpg',\n",
       "   'cover_photo_small': 'https://dgalywyr863hv.cloudfront.net/pictures/clubs/54726/6610220/7/small.jpg',\n",
       "   'activity_types': ['Run', 'VirtualRun', 'Wheelchair'],\n",
       "   'activity_types_icon': 'sports_run_normal',\n",
       "   'dimensions': ['distance',\n",
       "    'num_activities',\n",
       "    'best_activities_distance',\n",
       "    'elev_gain',\n",
       "    'moving_time',\n",
       "    'velocity'],\n",
       "   'sport_type': 'running',\n",
       "   'localized_sport_type': 'Running',\n",
       "   'city': 'Toulouse',\n",
       "   'state': 'Haute-Garonne',\n",
       "   'country': 'France',\n",
       "   'private': False,\n",
       "   'member_count': 0,\n",
       "   'featured': False,\n",
       "   'verified': True,\n",
       "   'url': 'lknjp',\n",
       "   'membership': 'member',\n",
       "   'admin': False,\n",
       "   'owner': False},\n",
       "  {'id': 434748,\n",
       "   'resource_state': 2,\n",
       "   'name': 'Harmonie Mutuelle Semi de Paris',\n",
       "   'profile_medium': 'https://dgalywyr863hv.cloudfront.net/pictures/clubs/434748/8581622/2/medium.jpg',\n",
       "   'profile': 'https://dgalywyr863hv.cloudfront.net/pictures/clubs/434748/8581622/2/large.jpg',\n",
       "   'cover_photo': 'https://dgalywyr863hv.cloudfront.net/pictures/clubs/434748/8581627/11/large.jpg',\n",
       "   'cover_photo_small': 'https://dgalywyr863hv.cloudfront.net/pictures/clubs/434748/8581627/11/small.jpg',\n",
       "   'activity_types': ['Run', 'VirtualRun', 'Wheelchair'],\n",
       "   'activity_types_icon': 'sports_run_normal',\n",
       "   'dimensions': ['distance',\n",
       "    'num_activities',\n",
       "    'best_activities_distance',\n",
       "    'elev_gain',\n",
       "    'moving_time',\n",
       "    'velocity'],\n",
       "   'sport_type': 'running',\n",
       "   'localized_sport_type': 'Running',\n",
       "   'city': 'Paris',\n",
       "   'state': '',\n",
       "   'country': 'France',\n",
       "   'private': False,\n",
       "   'member_count': 0,\n",
       "   'featured': False,\n",
       "   'verified': True,\n",
       "   'url': 'semiparis',\n",
       "   'membership': 'member',\n",
       "   'admin': False,\n",
       "   'owner': False}],\n",
       " 'postable_clubs_count': 2,\n",
       " 'ftp': None,\n",
       " 'bikes': [],\n",
       " 'shoes': [{'id': 'g14291087',\n",
       "   'primary': False,\n",
       "   'name': 'HOKA Bondi 8',\n",
       "   'nickname': '',\n",
       "   'resource_state': 2,\n",
       "   'retired': False,\n",
       "   'distance': 550034,\n",
       "   'converted_distance': 550.0}],\n",
       " 'is_winback_via_upload': False,\n",
       " 'is_winback_via_view': False}"
      ]
     },
     "execution_count": 15,
     "metadata": {},
     "output_type": "execute_result"
    }
   ],
   "source": [
    "pm.get_profile_information()"
   ]
  },
  {
   "cell_type": "code",
   "execution_count": 20,
   "metadata": {},
   "outputs": [
    {
     "name": "stdout",
     "output_type": "stream",
     "text": [
      "Visitez cette URL pour autoriser l'application : https://www.strava.com/oauth/authorize?client_id=127031&response_type=code&redirect_uri=http://localhost:8000/exchange_token&scope=read_all,profile:read_all,activity:read_all,activity:write\n"
     ]
    }
   ],
   "source": [
    "import requests\n",
    "\n",
    "# Vos informations Strava\n",
    "client_id = CLIENT_ID\n",
    "redirect_uri = 'http://localhost:8000/exchange_token'\n",
    "scopes = 'read_all,profile:read_all,activity:read_all,activity:write'  # Ajoutez les scopes nécessaires\n",
    "\n",
    "# URL du endpoint d'autorisation\n",
    "authorization_url = f\"https://www.strava.com/oauth/authorize?client_id={client_id}&response_type=code&redirect_uri={redirect_uri}&scope={scopes}\"\n",
    "\n",
    "print(\"Visitez cette URL pour autoriser l'application :\", authorization_url)\n",
    "# http://localhost:8000/exchange_token?state=&code=9dacfb4f65b2f3ab4499be2e6eb15def6b7d6ee3&scope=read,activity:write,activity:read_all,profile:read_all,read_all"
   ]
  },
  {
   "cell_type": "code",
   "execution_count": 21,
   "metadata": {},
   "outputs": [
    {
     "name": "stdout",
     "output_type": "stream",
     "text": [
      "Access Token: 19d08c92bea869c8e4deeb117010aadcb1ac1365\n",
      "Refresh Token: ce5a15a2f58734fd99404df19442fb4688c538be\n",
      "Expires at: 1719719967\n"
     ]
    }
   ],
   "source": [
    "# 9dacfb4f65b2f3ab4499be2e6eb15def6b7d6ee3\n",
    "import requests\n",
    "\n",
    "# Vos informations Strava\n",
    "client_id = CLIENT_ID\n",
    "client_secret = CLIENT_SECRET\n",
    "code = '9dacfb4f65b2f3ab4499be2e6eb15def6b7d6ee3'  # Le code d'autorisation obtenu après l'autorisation\n",
    "\n",
    "# URL du endpoint d'authentification\n",
    "url = 'https://www.strava.com/oauth/token'\n",
    "\n",
    "# Données de la requête\n",
    "data = {\n",
    "    'client_id': client_id,\n",
    "    'client_secret': client_secret,\n",
    "    'code': code,\n",
    "    'grant_type': 'authorization_code'\n",
    "}\n",
    "\n",
    "# Envoi de la requête POST pour obtenir le token\n",
    "response = requests.post(url, data=data)\n",
    "\n",
    "# Vérification de la réponse\n",
    "if response.status_code == 200:\n",
    "    # Conversion de la réponse en JSON\n",
    "    tokens = response.json()\n",
    "    print(\"Access Token:\", tokens['access_token'])\n",
    "    print(\"Refresh Token:\", tokens['refresh_token'])\n",
    "    print(\"Expires at:\", tokens['expires_at'])\n",
    "else:\n",
    "    print(f\"Erreur {response.status_code}: {response.text}\")\n"
   ]
  },
  {
   "cell_type": "code",
   "execution_count": 2,
   "metadata": {},
   "outputs": [
    {
     "name": "stdout",
     "output_type": "stream",
     "text": [
      "Access Token refreshed successfully\n"
     ]
    }
   ],
   "source": [
    "import requests\n",
    "\n",
    "class StravaAuth:\n",
    "    def __init__(self, client_id: str, client_secret: str, refresh_token: str, access_token: str):\n",
    "        self.client_id = client_id\n",
    "        self.client_secret = client_secret\n",
    "        self.refresh_token = refresh_token\n",
    "        self.access_token = access_token\n",
    "        self.headers = {'Authorization': f'Bearer {self.access_token}'}\n",
    "\n",
    "    def refresh_access_token(self) -> str:\n",
    "        url = \"https://www.strava.com/api/v3/oauth/token\"\n",
    "        data = {\n",
    "            'client_id': self.client_id,\n",
    "            'client_secret': self.client_secret,\n",
    "            'grant_type': 'refresh_token',\n",
    "            'refresh_token': self.refresh_token\n",
    "        }\n",
    "        response = requests.post(url=url, data=data)\n",
    "        \n",
    "        if response.status_code == 200:\n",
    "            tokens = response.json()\n",
    "            self.access_token = tokens['access_token']\n",
    "            self.refresh_token = tokens['refresh_token']\n",
    "            self.headers = {'Authorization': f'Bearer {self.access_token}'}\n",
    "            print(\"Access Token refreshed successfully\")\n",
    "            return self.access_token\n",
    "        else:\n",
    "            print(f\"Error refreshing token: {response.status_code}, {response.text}\")\n",
    "            return None\n",
    "\n",
    "# Utilisation de la classe\n",
    "client_id = CLIENT_ID\n",
    "client_secret = CLIENT_SECRET\n",
    "refresh_token = CLIENT_REFRESH_TOKEN\n",
    "access_token = CLIENT_ACCESS_TOKEN\n",
    "\n",
    "auth = StravaAuth(client_id, client_secret, refresh_token, access_token)\n",
    "new_access_token = auth.refresh_access_token()\n"
   ]
  },
  {
   "cell_type": "code",
   "execution_count": 3,
   "metadata": {},
   "outputs": [
    {
     "data": {
      "text/plain": [
       "'19d08c92bea869c8e4deeb117010aadcb1ac1365'"
      ]
     },
     "execution_count": 3,
     "metadata": {},
     "output_type": "execute_result"
    }
   ],
   "source": [
    "access_token"
   ]
  },
  {
   "cell_type": "code",
   "execution_count": 4,
   "metadata": {},
   "outputs": [
    {
     "data": {
      "text/plain": [
       "'19d08c92bea869c8e4deeb117010aadcb1ac1365'"
      ]
     },
     "execution_count": 4,
     "metadata": {},
     "output_type": "execute_result"
    }
   ],
   "source": []
  },
  {
   "cell_type": "code",
   "execution_count": 13,
   "metadata": {},
   "outputs": [
    {
     "name": "stdout",
     "output_type": "stream",
     "text": [
      "{'activity_type': 'Run',\n",
      " 'transformations': [{'days_before': 100,\n",
      "                      'distance': 21,\n",
      "                      'emoji': '🌊',\n",
      "                      'event': 'Semi-marathon Cancale St-Malo',\n",
      "                      'event_date': '2024-08-25',\n",
      "                      'nickname': 'Semi Cancale - St-Malo'},\n",
      "                     {'days_before': 100,\n",
      "                      'distance': 21,\n",
      "                      'emoji': '🏠',\n",
      "                      'event': 'Semi-marathon Boulogne-Billancourt',\n",
      "                      'event_date': '2024-11-18',\n",
      "                      'nickname': 'Semi de Boulbi'}]}\n"
     ]
    }
   ],
   "source": [
    "import json\n",
    "import pprint\n",
    "\n",
    "config_file = 'configuration/titre.json'\n",
    "\n",
    "with open(config_file, 'r') as file:\n",
    "    config_data = json.load(file)\n",
    "\n",
    "for config in config_data:\n",
    "    if config['activity_type'] == 'Run':\n",
    "        pprint.pprint(config)"
   ]
  },
  {
   "cell_type": "code",
   "execution_count": 12,
   "metadata": {},
   "outputs": [
    {
     "data": {
      "text/plain": [
       "[{'activity_type': 'Run',\n",
       "  'transformations': [{'event': 'Semi-marathon Cancale St-Malo',\n",
       "    'emoji': '🌊',\n",
       "    'event_date': '2024-08-25',\n",
       "    'distance': 21,\n",
       "    'days_before': 100,\n",
       "    'nickname': 'Semi Cancale - St-Malo'},\n",
       "   {'event': 'Semi-marathon Boulogne-Billancourt',\n",
       "    'emoji': '🏠',\n",
       "    'event_date': '2024-11-18',\n",
       "    'distance': 21,\n",
       "    'days_before': 100,\n",
       "    'nickname': 'Semi de Boulbi'}]},\n",
       " {'activity_type': 'Badminton',\n",
       "  'transformations': [{'event': '',\n",
       "    'emoji': '🏸',\n",
       "    'event_date': '2099-12-31',\n",
       "    'days_before': 100000000000,\n",
       "    'nickname': 'Bad Boulbi'},\n",
       "   {'event': 'Eventuel tournoi',\n",
       "    'emoji': '🏠',\n",
       "    'event_date': '',\n",
       "    'days_before': 100,\n",
       "    'nickname': 'Coupe Géante des Hauts de Seine'}]},\n",
       " {'activity_type': 'Ride',\n",
       "  'transformations': [{'event': '',\n",
       "    'emoji': '🚴🏻\\u200d♂️',\n",
       "    'event_date': '2099-12-31',\n",
       "    'days_before': 100000000000,\n",
       "    'nickname': ''}]}]"
      ]
     },
     "execution_count": 12,
     "metadata": {},
     "output_type": "execute_result"
    }
   ],
   "source": [
    "config_data"
   ]
  },
  {
   "cell_type": "code",
   "execution_count": 1,
   "metadata": {},
   "outputs": [],
   "source": [
    "import src.strava_class as strava"
   ]
  },
  {
   "cell_type": "code",
   "execution_count": 11,
   "metadata": {},
   "outputs": [
    {
     "name": "stdout",
     "output_type": "stream",
     "text": [
      "[🚴🏻‍♂️ ] (J-151) Morning Run\n"
     ]
    }
   ],
   "source": [
    "# config_manager = strava.ConfigManager('configuration/titre.json')\n",
    "transformer = strava.TitleTransformer('configuration/titre.json')\n",
    "config_manager = strava.ConfigManager('configuration/titre.json')\n",
    "activity_data = {\n",
    "    'type': 'Ride',\n",
    "    'name': 'Morning Run',\n",
    "    'start_date': '2024-08-01T08:00:00Z',\n",
    "    'average_speed': 4.2,\n",
    "    'temperature': 18,\n",
    "    'achievement_count': 2\n",
    "}\n",
    "\n",
    "new_title = transformer.transform_title(activity_data)\n",
    "print(new_title)\n"
   ]
  },
  {
   "cell_type": "code",
   "execution_count": 13,
   "metadata": {},
   "outputs": [
    {
     "data": {
      "text/plain": [
       "{'activity_type': 'Ride',\n",
       " 'transformations': [{'event': '',\n",
       "   'emoji': '🚴🏻\\u200d♂️',\n",
       "   'event_date': '2024-12-31',\n",
       "   'days_before': 300,\n",
       "   'nickname': ''}]}"
      ]
     },
     "execution_count": 13,
     "metadata": {},
     "output_type": "execute_result"
    }
   ],
   "source": [
    "config_manager.get_config_for_activity_type('Ride')"
   ]
  },
  {
   "cell_type": "code",
   "execution_count": 5,
   "metadata": {},
   "outputs": [
    {
     "name": "stdout",
     "output_type": "stream",
     "text": [
      "[{'activity_type': 'Run', 'transformations': [{'event': 'Semi-marathon Cancale St-Malo', 'emoji': '🌊', 'event_date': '2024-08-25', 'distance': 21, 'days_before': 100, 'nickname': 'Semi Cancale - St-Malo'}, {'event': 'Semi-marathon Boulogne-Billancourt', 'emoji': '🏠', 'event_date': '2024-11-18', 'distance': 21, 'days_before': 100, 'nickname': 'Semi de Boulbi'}]}, {'activity_type': 'Badminton', 'transformations': [{'event': '', 'emoji': '🏸', 'event_date': '2099-12-31', 'days_before': 100000000000, 'nickname': 'Bad Boulbi'}, {'event': 'Eventuel tournoi', 'emoji': '🏠', 'event_date': '', 'days_before': 100, 'nickname': 'Coupe Géante des Hauts de Seine'}]}, {'activity_type': 'Ride', 'transformations': [{'event': '', 'emoji': '🚴🏻\\u200d♂️', 'event_date': '2099-12-31', 'days_before': 100000000000, 'nickname': ''}]}]\n"
     ]
    }
   ],
   "source": [
    "import json\n",
    "with open('configuration/titre.json', 'r') as file:\n",
    "        print(json.load(file))"
   ]
  },
  {
   "cell_type": "code",
   "execution_count": 4,
   "metadata": {},
   "outputs": [
    {
     "ename": "TypeError",
     "evalue": "ProfileManager.__init__() missing 1 required positional argument: 'api'",
     "output_type": "error",
     "traceback": [
      "\u001b[0;31m---------------------------------------------------------------------------\u001b[0m",
      "\u001b[0;31mTypeError\u001b[0m                                 Traceback (most recent call last)",
      "Cell \u001b[0;32mIn[4], line 1\u001b[0m\n\u001b[0;32m----> 1\u001b[0m pm \u001b[38;5;241m=\u001b[39m \u001b[43mstrava\u001b[49m\u001b[38;5;241;43m.\u001b[39;49m\u001b[43mProfileManager\u001b[49m\u001b[43m(\u001b[49m\u001b[43m)\u001b[49m\n",
      "\u001b[0;31mTypeError\u001b[0m: ProfileManager.__init__() missing 1 required positional argument: 'api'"
     ]
    }
   ],
   "source": [
    "pm = strava.ProfileManager()"
   ]
  },
  {
   "cell_type": "code",
   "execution_count": 6,
   "metadata": {},
   "outputs": [],
   "source": [
    "from src.strava_class import StravaAuth, StravaAPI, ActivityManager, ProfileManager, StravaManager\n",
    "from src.config import CLIENT_ID, CLIENT_SECRET, CLIENT_REFRESH_TOKEN, CLIENT_ACCESS_TOKEN\n",
    "\n",
    "# auth = StravaAuth(client_id=CLIENT_ID, client_secret=CLIENT_SECRET, refresh_token=CLIENT_REFRESH_TOKEN, access_token=CLIENT_ACCESS_TOKEN)\n",
    "# api = StravaAPI(auth)\n",
    "# am = ActivityManager(api)\n",
    "# pm = ProfileManager(api)\n",
    "sm = StravaManager(client_id=CLIENT_ID, client_secret=CLIENT_SECRET, refresh_token=CLIENT_REFRESH_TOKEN, access_token=CLIENT_ACCESS_TOKEN, min_date=1719099527, config_file_path='configuration/titre.json')"
   ]
  },
  {
   "cell_type": "code",
   "execution_count": 7,
   "metadata": {},
   "outputs": [
    {
     "data": {
      "text/plain": [
       "{'id': 86360204,\n",
       " 'username': 'elancelle',\n",
       " 'resource_state': 3,\n",
       " 'firstname': 'Etienne',\n",
       " 'lastname': 'Lancelle',\n",
       " 'bio': None,\n",
       " 'city': None,\n",
       " 'state': None,\n",
       " 'country': None,\n",
       " 'sex': 'M',\n",
       " 'premium': False,\n",
       " 'summit': False,\n",
       " 'created_at': '2021-05-31T15:22:52Z',\n",
       " 'updated_at': '2024-07-01T14:04:41Z',\n",
       " 'badge_type_id': 0,\n",
       " 'weight': 69.0,\n",
       " 'profile_medium': 'https://graph.facebook.com/4264495023571015/picture?height=256&width=256',\n",
       " 'profile': 'https://graph.facebook.com/4264495023571015/picture?height=256&width=256',\n",
       " 'friend': None,\n",
       " 'follower': None,\n",
       " 'blocked': False,\n",
       " 'can_follow': True,\n",
       " 'follower_count': 77,\n",
       " 'friend_count': 106,\n",
       " 'mutual_friend_count': 0,\n",
       " 'athlete_type': 1,\n",
       " 'date_preference': '%m/%d/%Y',\n",
       " 'measurement_preference': 'meters',\n",
       " 'clubs': [{'id': 54726,\n",
       "   'resource_state': 2,\n",
       "   'name': 'LoKan Explore',\n",
       "   'profile_medium': 'https://dgalywyr863hv.cloudfront.net/pictures/clubs/54726/28989284/3/medium.jpg',\n",
       "   'profile': 'https://dgalywyr863hv.cloudfront.net/pictures/clubs/54726/28989284/3/large.jpg',\n",
       "   'cover_photo': 'https://dgalywyr863hv.cloudfront.net/pictures/clubs/54726/6610220/7/large.jpg',\n",
       "   'cover_photo_small': 'https://dgalywyr863hv.cloudfront.net/pictures/clubs/54726/6610220/7/small.jpg',\n",
       "   'activity_types': ['Run', 'VirtualRun', 'Wheelchair'],\n",
       "   'activity_types_icon': 'sports_run_normal',\n",
       "   'dimensions': ['distance',\n",
       "    'num_activities',\n",
       "    'best_activities_distance',\n",
       "    'elev_gain',\n",
       "    'moving_time',\n",
       "    'velocity'],\n",
       "   'sport_type': 'running',\n",
       "   'localized_sport_type': 'Running',\n",
       "   'city': 'Toulouse',\n",
       "   'state': 'Haute-Garonne',\n",
       "   'country': 'France',\n",
       "   'private': False,\n",
       "   'member_count': 0,\n",
       "   'featured': False,\n",
       "   'verified': True,\n",
       "   'url': 'lknjp',\n",
       "   'membership': 'member',\n",
       "   'admin': False,\n",
       "   'owner': False},\n",
       "  {'id': 434748,\n",
       "   'resource_state': 2,\n",
       "   'name': 'Harmonie Mutuelle Semi de Paris',\n",
       "   'profile_medium': 'https://dgalywyr863hv.cloudfront.net/pictures/clubs/434748/8581622/2/medium.jpg',\n",
       "   'profile': 'https://dgalywyr863hv.cloudfront.net/pictures/clubs/434748/8581622/2/large.jpg',\n",
       "   'cover_photo': 'https://dgalywyr863hv.cloudfront.net/pictures/clubs/434748/8581627/11/large.jpg',\n",
       "   'cover_photo_small': 'https://dgalywyr863hv.cloudfront.net/pictures/clubs/434748/8581627/11/small.jpg',\n",
       "   'activity_types': ['Run', 'VirtualRun', 'Wheelchair'],\n",
       "   'activity_types_icon': 'sports_run_normal',\n",
       "   'dimensions': ['distance',\n",
       "    'num_activities',\n",
       "    'best_activities_distance',\n",
       "    'elev_gain',\n",
       "    'moving_time',\n",
       "    'velocity'],\n",
       "   'sport_type': 'running',\n",
       "   'localized_sport_type': 'Running',\n",
       "   'city': 'Paris',\n",
       "   'state': '',\n",
       "   'country': 'France',\n",
       "   'private': False,\n",
       "   'member_count': 0,\n",
       "   'featured': False,\n",
       "   'verified': True,\n",
       "   'url': 'semiparis',\n",
       "   'membership': 'member',\n",
       "   'admin': False,\n",
       "   'owner': False}],\n",
       " 'postable_clubs_count': 2,\n",
       " 'ftp': None,\n",
       " 'bikes': [],\n",
       " 'shoes': [{'id': 'g14291087',\n",
       "   'primary': False,\n",
       "   'name': 'HOKA Bondi 8',\n",
       "   'nickname': '',\n",
       "   'resource_state': 2,\n",
       "   'retired': False,\n",
       "   'distance': 553888,\n",
       "   'converted_distance': 553.9}],\n",
       " 'is_winback_via_upload': False,\n",
       " 'is_winback_via_view': False}"
      ]
     },
     "execution_count": 7,
     "metadata": {},
     "output_type": "execute_result"
    }
   ],
   "source": [
    "sm.get_profile_info()"
   ]
  },
  {
   "cell_type": "code",
   "execution_count": null,
   "metadata": {},
   "outputs": [],
   "source": []
  }
 ],
 "metadata": {
  "kernelspec": {
   "display_name": ".venv",
   "language": "python",
   "name": "python3"
  },
  "language_info": {
   "codemirror_mode": {
    "name": "ipython",
    "version": 3
   },
   "file_extension": ".py",
   "mimetype": "text/x-python",
   "name": "python",
   "nbconvert_exporter": "python",
   "pygments_lexer": "ipython3",
   "version": "3.12.3"
  }
 },
 "nbformat": 4,
 "nbformat_minor": 2
}
